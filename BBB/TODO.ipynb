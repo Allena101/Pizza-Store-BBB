{
 "cells": [
  {
   "cell_type": "code",
   "execution_count": null,
   "metadata": {},
   "outputs": [],
   "source": [
    "change Table and html so that medium becomes 'modest'\n",
    "maybe change so that either teh table or html has only small letters "
   ]
  },
  {
   "cell_type": "code",
   "execution_count": null,
   "metadata": {},
   "outputs": [],
   "source": [
    "1) fix add topping input box and button placements\n",
    "2) add create pizza that should be teh same as add topping but it will be in the same form as the topping selection drop down menus\n",
    "3) update the Tables so that you can do cascade and check that datetime gets added for order history\n",
    "4) fix the link (if you can) at least make it so that only admin (the first user) can access the registration route (i.e. only the boss can add new employee accounts)\n",
    "5) make it so that addPizza, orderHistory etc are only visible if current_user.is_authenticated() is true\n",
    "6) if you can make the pizza store name a link to the ome page then\n",
    "7) if things go well add the pizza aministration to its own blueprints then\n",
    "8) change Table and html so that medium becomes 'modest'\n",
    "9) maybe change so that either teh table or html has only small letters \n",
    "10) display OrderHistory id when you print and call it ordernumber\n",
    "11) add flash messege for add pizza and add toppings\n",
    "12) figured out how to add the admin User in a way so you dont get fucked wehn the password is encrypted\n",
    "14) add back that you have to log out before loging in or regesting if you can find it\n",
    "15) change button text for out of stock pizza to : temporarely out of stock\n",
    "16) fix the toppings that are added to the pizza so that in the for loop if i == 'None' (or what you named it) then : continue . \n",
    "17) createa a route for deleting pizzas and toppings\n",
    "18) code so that when the Pizzaorder table is copied into OrderHistory that a new field is created which would be orderID that is an id for each order. make it so that it updates every time orderHistory is updated. you could have it create it before the loop so that it only runs once \n",
    "19) fix it so that (like corye222) login only appears when user is not authetnicted (and the reverse for logout)\n",
    "20) change it so regTest becomes register (you will need to change the url_for)\n",
    "21) add flash to the sidebar as well when ordering, which shoudl result in dual messges but i think it will work\n",
    "22) finish the make order submit button in the sidebar that should also give a flash and then the pizzaOrder table should be emptied\n"
   ]
  },
  {
   "cell_type": "code",
   "execution_count": null,
   "metadata": {},
   "outputs": [],
   "source": []
  },
  {
   "cell_type": "code",
   "execution_count": null,
   "metadata": {},
   "outputs": [],
   "source": []
  },
  {
   "cell_type": "code",
   "execution_count": null,
   "metadata": {},
   "outputs": [],
   "source": []
  }
 ],
 "metadata": {
  "language_info": {
   "name": "python"
  },
  "orig_nbformat": 4
 },
 "nbformat": 4,
 "nbformat_minor": 2
}
