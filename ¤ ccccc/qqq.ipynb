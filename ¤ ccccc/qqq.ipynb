{
 "cells": [
  {
   "cell_type": "code",
   "execution_count": null,
   "metadata": {},
   "outputs": [],
   "source": [
    "# <!DOCTYPE html>\n",
    "<html>\n",
    "<head>\n",
    "\t<title>Pizza Menu</title>\n",
    "</head>\n",
    "<body>\n",
    "\t<h1>Pizza Menu</h1>\n",
    "\t<form action=\"/order\" method=\"POST\">\n",
    "\t\t<input type=\"checkbox\" name=\"pizza\" value=\"Pepperoni\">Pepperoni<br>\n",
    "\t\t<input type=\"checkbox\" name=\"pizza\" value=\"Margherita\">Margherita<br>\n",
    "\t\t<input type=\"checkbox\" name=\"pizza\" value=\"Supreme\">Supreme<br>\n",
    "\t\t<input type=\"submit\" value=\"Order\">\n",
    "\t</form>\n",
    "</body>\n",
    "</html>\n",
    "\n",
    "from flask import Flask, request, render_template\n",
    "\n",
    "app = Flask(__name__)\n",
    "\n",
    "@app.route('/')\n",
    "def index():\n",
    "    return render_template('menu.html')\n",
    "\n",
    "@app.route('/order', methods=['POST'])\n",
    "def order():\n",
    "    pizzas = request.form.getlist('pizza')\n",
    "    # do something with the selected pizzas, such as add them to a database or send them in an email\n",
    "    return 'Your order has been submitted!'\n",
    "\n",
    "if __name__ == '__main__':\n",
    "    app.run()\n"
   ]
  },
  {
   "cell_type": "code",
   "execution_count": null,
   "metadata": {},
   "outputs": [],
   "source": [
    "<form method=\"POST\" action=\"{{ url_for('order_pizza') }}\">\n",
    "  <h2>Pizza Menu</h2>\n",
    "  <p>Select one or more pizzas:</p>\n",
    "\n",
    "  <input type=\"checkbox\" name=\"pizzas[]\" value=\"margherita\">\n",
    "  <label for=\"margherita\">Margherita</label><br>\n",
    "\n",
    "  <input type=\"checkbox\" name=\"pizzas[]\" value=\"pepperoni\">\n",
    "  <label for=\"pepperoni\">Pepperoni</label><br>\n",
    "\n",
    "  <input type=\"checkbox\" name=\"pizzas[]\" value=\"vegetarian\">\n",
    "  <label for=\"vegetarian\">Vegetarian</label><br>\n",
    "\n",
    "  <input type=\"checkbox\" name=\"pizzas[]\" value=\"hawaiian\">\n",
    "  <label for=\"hawaiian\">Hawaiian</label><br>\n",
    "\n",
    "  <br>\n",
    "  <button type=\"submit\">Order</button>\n",
    "</form>\n",
    "\n",
    "@app.route('/order_pizza', methods=['POST'])\n",
    "def order_pizza():\n",
    "    selected_pizzas = request.form.getlist('pizzas[]')\n",
    "    # process the order here\n",
    "    return \"Thank you for your order!\""
   ]
  },
  {
   "cell_type": "code",
   "execution_count": null,
   "metadata": {},
   "outputs": [],
   "source": []
  },
  {
   "cell_type": "code",
   "execution_count": null,
   "metadata": {},
   "outputs": [],
   "source": []
  },
  {
   "cell_type": "code",
   "execution_count": null,
   "metadata": {},
   "outputs": [],
   "source": []
  }
 ],
 "metadata": {
  "language_info": {
   "name": "python"
  },
  "orig_nbformat": 4
 },
 "nbformat": 4,
 "nbformat_minor": 2
}
